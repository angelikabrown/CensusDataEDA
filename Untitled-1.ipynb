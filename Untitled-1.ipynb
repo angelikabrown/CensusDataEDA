{
 "cells": [
  {
   "cell_type": "markdown",
   "id": "ddd1f9a6",
   "metadata": {},
   "source": [
    "# Import Required Libraries\n",
    "Import libraries such as pandas for data manipulation and matplotlib or seaborn for visualization."
   ]
  },
  {
   "cell_type": "code",
   "execution_count": null,
   "id": "a00dec79",
   "metadata": {},
   "outputs": [],
   "source": [
    "# Import Required Libraries\n",
    "import pandas as pd\n",
    "import matplotlib.pyplot as plt\n",
    "import seaborn as sns"
   ]
  },
  {
   "cell_type": "markdown",
   "id": "eaf72d06",
   "metadata": {},
   "source": [
    "# Load and Inspect the Dataset\n",
    "Load the CSV file into a pandas DataFrame and inspect its structure using methods like head(), info(), and describe()."
   ]
  },
  {
   "cell_type": "code",
   "execution_count": null,
   "id": "293763bc",
   "metadata": {},
   "outputs": [],
   "source": [
    "# Load and Inspect the Dataset\n",
    "file_path = \"/Users/angel/CensusDataEDA/transportation_modes_and_earnings.csv\"\n",
    "data = pd.read_csv(file_path)\n",
    "\n",
    "# Inspect the structure of the dataset\n",
    "print(data.head())\n",
    "print(data.info())\n",
    "print(data.describe())"
   ]
  },
  {
   "cell_type": "markdown",
   "id": "179cfd53",
   "metadata": {},
   "source": [
    "# Filter Top 3 Transportation Modes\n",
    "Identify the three transportation modes with the highest total values across all earning brackets and filter the dataset accordingly."
   ]
  },
  {
   "cell_type": "code",
   "execution_count": null,
   "id": "e968fa56",
   "metadata": {},
   "outputs": [],
   "source": [
    "# Filter Top 3 Transportation Modes\n",
    "# Aggregate total values for each transportation mode\n",
    "total_values = data.groupby(\"Transportation Mode\")[\"Value\"].sum().sort_values(ascending=False)\n",
    "\n",
    "# Select the top 3 transportation modes\n",
    "top_modes = total_values.head(3).index.tolist()\n",
    "\n",
    "# Filter the dataset for the top 3 transportation modes\n",
    "filtered_data = data[data[\"Transportation Mode\"].isin(top_modes)]\n",
    "print(filtered_data)"
   ]
  },
  {
   "cell_type": "markdown",
   "id": "3a5934bf",
   "metadata": {},
   "source": [
    "# Aggregate Data by Earnings Bracket\n",
    "Group the filtered data by earnings bracket and transportation mode, summing up the values for visualization."
   ]
  },
  {
   "cell_type": "code",
   "execution_count": null,
   "id": "952a3e08",
   "metadata": {},
   "outputs": [],
   "source": [
    "# Aggregate Data by Earnings Bracket\n",
    "aggregated_data = filtered_data.groupby([\"Earnings Bracket\", \"Transportation Mode\"])[\"Value\"].sum().reset_index()\n",
    "\n",
    "# Pivot the data for easier visualization\n",
    "pivot_data = aggregated_data.pivot(index=\"Earnings Bracket\", columns=\"Transportation Mode\", values=\"Value\")\n",
    "print(pivot_data)"
   ]
  },
  {
   "cell_type": "markdown",
   "id": "d51ddbe0",
   "metadata": {},
   "source": [
    "# Visualize Data Using Bar Charts\n",
    "Create bar charts to compare the values of the top three transportation modes across different earning brackets."
   ]
  },
  {
   "cell_type": "code",
   "execution_count": null,
   "id": "1e72e756",
   "metadata": {},
   "outputs": [],
   "source": [
    "# Visualize Data Using Bar Charts\n",
    "plt.figure(figsize=(12, 8))\n",
    "pivot_data.plot(kind=\"bar\", stacked=True, figsize=(12, 8))\n",
    "\n",
    "plt.title(\"Comparison of Top 3 Transportation Modes Across Earnings Brackets\")\n",
    "plt.xlabel(\"Earnings Bracket\")\n",
    "plt.ylabel(\"Total Value\")\n",
    "plt.legend(title=\"Transportation Mode\")\n",
    "plt.tight_layout()\n",
    "plt.show()"
   ]
  }
 ],
 "metadata": {
  "language_info": {
   "name": "python"
  }
 },
 "nbformat": 4,
 "nbformat_minor": 5
}
