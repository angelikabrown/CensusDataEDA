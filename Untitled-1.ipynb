{
 "cells": [
  {
   "cell_type": "markdown",
   "id": "3ec492da",
   "metadata": {},
   "source": [
    "# Import Required Libraries\n",
    "Import pandas, seaborn, and matplotlib for data manipulation and visualization."
   ]
  },
  {
   "cell_type": "code",
   "execution_count": null,
   "id": "262c0e99",
   "metadata": {},
   "outputs": [],
   "source": [
    "# Import Required Libraries\n",
    "import pandas as pd\n",
    "import seaborn as sns\n",
    "import matplotlib.pyplot as plt"
   ]
  },
  {
   "cell_type": "markdown",
   "id": "e1105c14",
   "metadata": {},
   "source": [
    "### Load and Inspect Data\n",
    "Load the transportation_modes_and_earnings.csv dataset and inspect its structure using head() and info()."
   ]
  },
  {
   "cell_type": "code",
   "execution_count": null,
   "id": "bc3cc55d",
   "metadata": {},
   "outputs": [],
   "source": [
    "# Load and Inspect Data\n",
    "earnings = pd.read_csv('transportation_modes_and_earnings.csv')\n",
    "print(earnings.head())\n",
    "print(earnings.info())"
   ]
  },
  {
   "cell_type": "markdown",
   "id": "e483a2e1",
   "metadata": {},
   "source": [
    "### Group Data by Earnings Bracket\n",
    "Group the data by earnings bracket and transportation mode, summing up the values for each combination."
   ]
  },
  {
   "cell_type": "code",
   "execution_count": null,
   "id": "c3eb968e",
   "metadata": {},
   "outputs": [],
   "source": [
    "# Group Data by Earnings Bracket\n",
    "grouped_data = earnings.groupby(['Earnings Bracket', 'Transportation Mode'])['Value'].sum().reset_index()\n",
    "print(grouped_data.head())"
   ]
  },
  {
   "cell_type": "markdown",
   "id": "b2ce7179",
   "metadata": {},
   "source": [
    "### Identify Top Three Modes of Transportation\n",
    "Sort the grouped data within each earnings bracket to identify the top three transportation modes."
   ]
  },
  {
   "cell_type": "code",
   "execution_count": null,
   "id": "f33b581c",
   "metadata": {},
   "outputs": [],
   "source": [
    "# Identify Top Three Modes of Transportation\n",
    "top_modes = grouped_data.sort_values(['Earnings Bracket', 'Value'], ascending=[True, False])\n",
    "top_modes = top_modes.groupby('Earnings Bracket').head(3)\n",
    "print(top_modes)"
   ]
  },
  {
   "cell_type": "markdown",
   "id": "864e44db",
   "metadata": {},
   "source": [
    "### Visualize Top Modes of Transportation\n",
    "Create bar charts or other visualizations to display the top three transportation modes for each earnings bracket."
   ]
  },
  {
   "cell_type": "code",
   "execution_count": null,
   "id": "c222c93a",
   "metadata": {},
   "outputs": [],
   "source": [
    "# Visualize Top Modes of Transportation\n",
    "plt.figure(figsize=(12, 8))\n",
    "sns.barplot(x='Earnings Bracket', y='Value', hue='Transportation Mode', data=top_modes)\n",
    "plt.title('Top Three Transportation Modes by Earnings Bracket')\n",
    "plt.xlabel('Earnings Bracket')\n",
    "plt.ylabel('Value')\n",
    "plt.legend(title='Transportation Mode')\n",
    "plt.xticks(rotation=45, ha='right')\n",
    "plt.tight_layout()\n",
    "plt.show()"
   ]
  }
 ],
 "metadata": {
  "language_info": {
   "name": "python"
  }
 },
 "nbformat": 4,
 "nbformat_minor": 5
}
