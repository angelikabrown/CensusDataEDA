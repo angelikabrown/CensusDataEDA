{
 "cells": [
  {
   "cell_type": "code",
   "execution_count": 2,
   "id": "102544ac",
   "metadata": {},
   "outputs": [],
   "source": [
    "import pandas as pd\n",
    "import numpy as np"
   ]
  },
  {
   "cell_type": "markdown",
   "id": "7d6f9d53",
   "metadata": {},
   "source": [
    "### Transportation by industry"
   ]
  },
  {
   "cell_type": "code",
   "execution_count": 3,
   "id": "2574740b",
   "metadata": {},
   "outputs": [
    {
     "data": {
      "text/html": [
       "<div>\n",
       "<style scoped>\n",
       "    .dataframe tbody tr th:only-of-type {\n",
       "        vertical-align: middle;\n",
       "    }\n",
       "\n",
       "    .dataframe tbody tr th {\n",
       "        vertical-align: top;\n",
       "    }\n",
       "\n",
       "    .dataframe thead th {\n",
       "        text-align: right;\n",
       "    }\n",
       "</style>\n",
       "<table border=\"1\" class=\"dataframe\">\n",
       "  <thead>\n",
       "    <tr style=\"text-align: right;\">\n",
       "      <th></th>\n",
       "      <th>Transportation Mode</th>\n",
       "      <th>Industry</th>\n",
       "      <th>Value</th>\n",
       "    </tr>\n",
       "  </thead>\n",
       "  <tbody>\n",
       "    <tr>\n",
       "      <th>0</th>\n",
       "      <td>Car, Truck, or Van - Drove Alone</td>\n",
       "      <td>Agriculture, forestry, fishing and hunting, an...</td>\n",
       "      <td>1733974</td>\n",
       "    </tr>\n",
       "    <tr>\n",
       "      <th>1</th>\n",
       "      <td>Car, Truck, or Van - Drove Alone</td>\n",
       "      <td>Construction</td>\n",
       "      <td>8311014</td>\n",
       "    </tr>\n",
       "    <tr>\n",
       "      <th>2</th>\n",
       "      <td>Car, Truck, or Van - Drove Alone</td>\n",
       "      <td>Manufacturing</td>\n",
       "      <td>12160846</td>\n",
       "    </tr>\n",
       "    <tr>\n",
       "      <th>3</th>\n",
       "      <td>Car, Truck, or Van - Drove Alone</td>\n",
       "      <td>Wholesale trade</td>\n",
       "      <td>2384439</td>\n",
       "    </tr>\n",
       "    <tr>\n",
       "      <th>4</th>\n",
       "      <td>Car, Truck, or Van - Drove Alone</td>\n",
       "      <td>Retail trade</td>\n",
       "      <td>12536727</td>\n",
       "    </tr>\n",
       "  </tbody>\n",
       "</table>\n",
       "</div>"
      ],
      "text/plain": [
       "                Transportation Mode  \\\n",
       "0  Car, Truck, or Van - Drove Alone   \n",
       "1  Car, Truck, or Van - Drove Alone   \n",
       "2  Car, Truck, or Van - Drove Alone   \n",
       "3  Car, Truck, or Van - Drove Alone   \n",
       "4  Car, Truck, or Van - Drove Alone   \n",
       "\n",
       "                                            Industry     Value  \n",
       "0  Agriculture, forestry, fishing and hunting, an...   1733974  \n",
       "1                                       Construction   8311014  \n",
       "2                                      Manufacturing  12160846  \n",
       "3                                    Wholesale trade   2384439  \n",
       "4                                       Retail trade  12536727  "
      ]
     },
     "execution_count": 3,
     "metadata": {},
     "output_type": "execute_result"
    }
   ],
   "source": [
    "df = pd.read_csv(\"transportation_and_industries.csv\")\n",
    "df.head()"
   ]
  },
  {
   "cell_type": "code",
   "execution_count": 8,
   "id": "a7d05f61",
   "metadata": {},
   "outputs": [
    {
     "data": {
      "text/plain": [
       "Transportation Mode\n",
       "Car, Truck, or Van - Drove Alone                        112376082\n",
       "Worked from Home                                         22486510\n",
       "Car, Truck, or Van - Carpooled                           14609627\n",
       "Taxicab, Motorcycle, Bicycle, Walked, or Other Means      7227198\n",
       "Public Transportation (excluding taxicab)                 5735258\n",
       "Name: Value, dtype: int64"
      ]
     },
     "execution_count": 8,
     "metadata": {},
     "output_type": "execute_result"
    }
   ],
   "source": [
    "#top 10 transporation modes by value\n",
    "top_10_modes = df.groupby(\"Transportation Mode\")[\"Value\"].sum().nlargest(10)\n",
    "top_10_modes.head()"
   ]
  },
  {
   "cell_type": "code",
   "execution_count": null,
   "id": "a0f81646",
   "metadata": {},
   "outputs": [],
   "source": [
    "#"
   ]
  }
 ],
 "metadata": {
  "kernelspec": {
   "display_name": "venv",
   "language": "python",
   "name": "python3"
  },
  "language_info": {
   "codemirror_mode": {
    "name": "ipython",
    "version": 3
   },
   "file_extension": ".py",
   "mimetype": "text/x-python",
   "name": "python",
   "nbconvert_exporter": "python",
   "pygments_lexer": "ipython3",
   "version": "3.11.12"
  }
 },
 "nbformat": 4,
 "nbformat_minor": 5
}
