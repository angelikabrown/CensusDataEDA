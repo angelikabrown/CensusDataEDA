{
 "cells": [
  {
   "cell_type": "code",
   "execution_count": null,
   "id": "102544ac",
   "metadata": {},
   "outputs": [],
   "source": [
    "import pandas as pd\n",
    "import numpy as np"
   ]
  },
  {
   "cell_type": "markdown",
   "id": "7d6f9d53",
   "metadata": {},
   "source": [
    "### Transportation by industry"
   ]
  },
  {
   "cell_type": "code",
   "execution_count": null,
   "id": "2574740b",
   "metadata": {},
   "outputs": [],
   "source": [
    "pd.read_csv(\"transportation_and_industries.csv\")"
   ]
  }
 ],
 "metadata": {
  "kernelspec": {
   "display_name": "venv",
   "language": "python",
   "name": "python3"
  },
  "language_info": {
   "name": "python",
   "version": "3.11.12"
  }
 },
 "nbformat": 4,
 "nbformat_minor": 5
}
