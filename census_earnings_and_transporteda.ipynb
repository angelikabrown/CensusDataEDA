{
 "cells": [
  {
   "cell_type": "code",
   "execution_count": 1,
   "id": "9c57275d",
   "metadata": {},
   "outputs": [],
   "source": [
    "import pandas as pd\n",
    "import numpy as np"
   ]
  },
  {
   "cell_type": "code",
   "execution_count": 3,
   "id": "76bff7f1",
   "metadata": {},
   "outputs": [
    {
     "data": {
      "text/html": [
       "<div>\n",
       "<style scoped>\n",
       "    .dataframe tbody tr th:only-of-type {\n",
       "        vertical-align: middle;\n",
       "    }\n",
       "\n",
       "    .dataframe tbody tr th {\n",
       "        vertical-align: top;\n",
       "    }\n",
       "\n",
       "    .dataframe thead th {\n",
       "        text-align: right;\n",
       "    }\n",
       "</style>\n",
       "<table border=\"1\" class=\"dataframe\">\n",
       "  <thead>\n",
       "    <tr style=\"text-align: right;\">\n",
       "      <th></th>\n",
       "      <th>Transportation Mode</th>\n",
       "      <th>Earnings Bracket</th>\n",
       "      <th>Value</th>\n",
       "    </tr>\n",
       "  </thead>\n",
       "  <tbody>\n",
       "    <tr>\n",
       "      <th>0</th>\n",
       "      <td>Car, Truck, or Van - Drove Alone</td>\n",
       "      <td>$1 to $9,999 or loss</td>\n",
       "      <td>9330559</td>\n",
       "    </tr>\n",
       "    <tr>\n",
       "      <th>1</th>\n",
       "      <td>Car, Truck, or Van - Drove Alone</td>\n",
       "      <td>$10,000 to $14,999</td>\n",
       "      <td>5144909</td>\n",
       "    </tr>\n",
       "    <tr>\n",
       "      <th>2</th>\n",
       "      <td>Car, Truck, or Van - Drove Alone</td>\n",
       "      <td>$15,000 to $24,999</td>\n",
       "      <td>10731449</td>\n",
       "    </tr>\n",
       "    <tr>\n",
       "      <th>3</th>\n",
       "      <td>Car, Truck, or Van - Drove Alone</td>\n",
       "      <td>$25,000 to $34,999</td>\n",
       "      <td>12977755</td>\n",
       "    </tr>\n",
       "    <tr>\n",
       "      <th>4</th>\n",
       "      <td>Car, Truck, or Van - Drove Alone</td>\n",
       "      <td>$35,000 to $49,999</td>\n",
       "      <td>19305876</td>\n",
       "    </tr>\n",
       "  </tbody>\n",
       "</table>\n",
       "</div>"
      ],
      "text/plain": [
       "                Transportation Mode      Earnings Bracket     Value\n",
       "0  Car, Truck, or Van - Drove Alone  $1 to $9,999 or loss   9330559\n",
       "1  Car, Truck, or Van - Drove Alone    $10,000 to $14,999   5144909\n",
       "2  Car, Truck, or Van - Drove Alone    $15,000 to $24,999  10731449\n",
       "3  Car, Truck, or Van - Drove Alone    $25,000 to $34,999  12977755\n",
       "4  Car, Truck, or Van - Drove Alone    $35,000 to $49,999  19305876"
      ]
     },
     "execution_count": 3,
     "metadata": {},
     "output_type": "execute_result"
    }
   ],
   "source": [
    "df = pd.read_csv('transportation_modes_and_earnings.csv')\n",
    "df.head()"
   ]
  },
  {
   "cell_type": "markdown",
   "id": "71f6e9a3",
   "metadata": {},
   "source": [
    "Now let's Breakdown each bracket to see the most popular way each goes to work"
   ]
  },
  {
   "cell_type": "markdown",
   "id": "6ea70003",
   "metadata": {},
   "source": [
    "Workers who earn up to and not including $10K in 2024\n",
    "--Drive alone, Carpooled, or worked from home.\n",
    "Least of all Public Transportation "
   ]
  },
  {
   "cell_type": "code",
   "execution_count": 5,
   "id": "90c1f9ba",
   "metadata": {},
   "outputs": [
    {
     "data": {
      "text/html": [
       "<div>\n",
       "<style scoped>\n",
       "    .dataframe tbody tr th:only-of-type {\n",
       "        vertical-align: middle;\n",
       "    }\n",
       "\n",
       "    .dataframe tbody tr th {\n",
       "        vertical-align: top;\n",
       "    }\n",
       "\n",
       "    .dataframe thead th {\n",
       "        text-align: right;\n",
       "    }\n",
       "</style>\n",
       "<table border=\"1\" class=\"dataframe\">\n",
       "  <thead>\n",
       "    <tr style=\"text-align: right;\">\n",
       "      <th></th>\n",
       "      <th>Transportation Mode</th>\n",
       "      <th>Earnings Bracket</th>\n",
       "      <th>Value</th>\n",
       "    </tr>\n",
       "  </thead>\n",
       "  <tbody>\n",
       "    <tr>\n",
       "      <th>0</th>\n",
       "      <td>Car, Truck, or Van - Drove Alone</td>\n",
       "      <td>$1 to $9,999 or loss</td>\n",
       "      <td>9330559</td>\n",
       "    </tr>\n",
       "    <tr>\n",
       "      <th>8</th>\n",
       "      <td>Car, Truck, or Van - Carpooled</td>\n",
       "      <td>$1 to $9,999 or loss</td>\n",
       "      <td>1969381</td>\n",
       "    </tr>\n",
       "    <tr>\n",
       "      <th>32</th>\n",
       "      <td>Worked from Home</td>\n",
       "      <td>$1 to $9,999 or loss</td>\n",
       "      <td>1512479</td>\n",
       "    </tr>\n",
       "    <tr>\n",
       "      <th>24</th>\n",
       "      <td>Taxicab, Motorcycle, Bicycle, Walked, or Other...</td>\n",
       "      <td>$1 to $9,999 or loss</td>\n",
       "      <td>1372898</td>\n",
       "    </tr>\n",
       "    <tr>\n",
       "      <th>16</th>\n",
       "      <td>Public Transportation (excluding taxicab)</td>\n",
       "      <td>$1 to $9,999 or loss</td>\n",
       "      <td>589616</td>\n",
       "    </tr>\n",
       "  </tbody>\n",
       "</table>\n",
       "</div>"
      ],
      "text/plain": [
       "                                  Transportation Mode      Earnings Bracket  \\\n",
       "0                    Car, Truck, or Van - Drove Alone  $1 to $9,999 or loss   \n",
       "8                      Car, Truck, or Van - Carpooled  $1 to $9,999 or loss   \n",
       "32                                   Worked from Home  $1 to $9,999 or loss   \n",
       "24  Taxicab, Motorcycle, Bicycle, Walked, or Other...  $1 to $9,999 or loss   \n",
       "16          Public Transportation (excluding taxicab)  $1 to $9,999 or loss   \n",
       "\n",
       "      Value  \n",
       "0   9330559  \n",
       "8   1969381  \n",
       "32  1512479  \n",
       "24  1372898  \n",
       "16   589616  "
      ]
     },
     "execution_count": 5,
     "metadata": {},
     "output_type": "execute_result"
    }
   ],
   "source": [
    "df_1 = df[df['Earnings Bracket']== '$1 to $9,999 or loss'].sort_values(by=\"Value\", ascending=False)\n",
    "df_1.head(10)"
   ]
  },
  {
   "cell_type": "markdown",
   "id": "5db4bce7",
   "metadata": {},
   "source": [
    "Workers who earned between 10K and 14.9K last year\n",
    "Mainly drove alone and carpooled.\n",
    "Public transportation is lowest."
   ]
  },
  {
   "cell_type": "code",
   "execution_count": 7,
   "id": "bbf35093",
   "metadata": {},
   "outputs": [
    {
     "data": {
      "text/html": [
       "<div>\n",
       "<style scoped>\n",
       "    .dataframe tbody tr th:only-of-type {\n",
       "        vertical-align: middle;\n",
       "    }\n",
       "\n",
       "    .dataframe tbody tr th {\n",
       "        vertical-align: top;\n",
       "    }\n",
       "\n",
       "    .dataframe thead th {\n",
       "        text-align: right;\n",
       "    }\n",
       "</style>\n",
       "<table border=\"1\" class=\"dataframe\">\n",
       "  <thead>\n",
       "    <tr style=\"text-align: right;\">\n",
       "      <th></th>\n",
       "      <th>Transportation Mode</th>\n",
       "      <th>Earnings Bracket</th>\n",
       "      <th>Value</th>\n",
       "    </tr>\n",
       "  </thead>\n",
       "  <tbody>\n",
       "    <tr>\n",
       "      <th>1</th>\n",
       "      <td>Car, Truck, or Van - Drove Alone</td>\n",
       "      <td>$10,000 to $14,999</td>\n",
       "      <td>5144909</td>\n",
       "    </tr>\n",
       "    <tr>\n",
       "      <th>9</th>\n",
       "      <td>Car, Truck, or Van - Carpooled</td>\n",
       "      <td>$10,000 to $14,999</td>\n",
       "      <td>914582</td>\n",
       "    </tr>\n",
       "    <tr>\n",
       "      <th>33</th>\n",
       "      <td>Worked from Home</td>\n",
       "      <td>$10,000 to $14,999</td>\n",
       "      <td>813935</td>\n",
       "    </tr>\n",
       "    <tr>\n",
       "      <th>25</th>\n",
       "      <td>Taxicab, Motorcycle, Bicycle, Walked, or Other...</td>\n",
       "      <td>$10,000 to $14,999</td>\n",
       "      <td>548786</td>\n",
       "    </tr>\n",
       "    <tr>\n",
       "      <th>17</th>\n",
       "      <td>Public Transportation (excluding taxicab)</td>\n",
       "      <td>$10,000 to $14,999</td>\n",
       "      <td>315881</td>\n",
       "    </tr>\n",
       "  </tbody>\n",
       "</table>\n",
       "</div>"
      ],
      "text/plain": [
       "                                  Transportation Mode    Earnings Bracket  \\\n",
       "1                    Car, Truck, or Van - Drove Alone  $10,000 to $14,999   \n",
       "9                      Car, Truck, or Van - Carpooled  $10,000 to $14,999   \n",
       "33                                   Worked from Home  $10,000 to $14,999   \n",
       "25  Taxicab, Motorcycle, Bicycle, Walked, or Other...  $10,000 to $14,999   \n",
       "17          Public Transportation (excluding taxicab)  $10,000 to $14,999   \n",
       "\n",
       "      Value  \n",
       "1   5144909  \n",
       "9    914582  \n",
       "33   813935  \n",
       "25   548786  \n",
       "17   315881  "
      ]
     },
     "execution_count": 7,
     "metadata": {},
     "output_type": "execute_result"
    }
   ],
   "source": [
    "df_2 = df[df['Earnings Bracket']== '$10,000 to $14,999'].sort_values(by=\"Value\", ascending=False)\n",
    "df_2.head(10)"
   ]
  },
  {
   "cell_type": "markdown",
   "id": "47a8e6bd",
   "metadata": {},
   "source": [
    "Workers who earned under 25K last year either Drove alone or carpooled.\n",
    "Working from home is sstill the 3rd highest mode of transport.\n",
    "Public transportation is lowest again"
   ]
  },
  {
   "cell_type": "code",
   "execution_count": 8,
   "id": "bba0c4f6",
   "metadata": {},
   "outputs": [
    {
     "data": {
      "text/html": [
       "<div>\n",
       "<style scoped>\n",
       "    .dataframe tbody tr th:only-of-type {\n",
       "        vertical-align: middle;\n",
       "    }\n",
       "\n",
       "    .dataframe tbody tr th {\n",
       "        vertical-align: top;\n",
       "    }\n",
       "\n",
       "    .dataframe thead th {\n",
       "        text-align: right;\n",
       "    }\n",
       "</style>\n",
       "<table border=\"1\" class=\"dataframe\">\n",
       "  <thead>\n",
       "    <tr style=\"text-align: right;\">\n",
       "      <th></th>\n",
       "      <th>Transportation Mode</th>\n",
       "      <th>Earnings Bracket</th>\n",
       "      <th>Value</th>\n",
       "    </tr>\n",
       "  </thead>\n",
       "  <tbody>\n",
       "    <tr>\n",
       "      <th>2</th>\n",
       "      <td>Car, Truck, or Van - Drove Alone</td>\n",
       "      <td>$15,000 to $24,999</td>\n",
       "      <td>10731449</td>\n",
       "    </tr>\n",
       "    <tr>\n",
       "      <th>10</th>\n",
       "      <td>Car, Truck, or Van - Carpooled</td>\n",
       "      <td>$15,000 to $24,999</td>\n",
       "      <td>1912526</td>\n",
       "    </tr>\n",
       "    <tr>\n",
       "      <th>34</th>\n",
       "      <td>Worked from Home</td>\n",
       "      <td>$15,000 to $24,999</td>\n",
       "      <td>1424288</td>\n",
       "    </tr>\n",
       "    <tr>\n",
       "      <th>26</th>\n",
       "      <td>Taxicab, Motorcycle, Bicycle, Walked, or Other...</td>\n",
       "      <td>$15,000 to $24,999</td>\n",
       "      <td>939471</td>\n",
       "    </tr>\n",
       "    <tr>\n",
       "      <th>18</th>\n",
       "      <td>Public Transportation (excluding taxicab)</td>\n",
       "      <td>$15,000 to $24,999</td>\n",
       "      <td>629959</td>\n",
       "    </tr>\n",
       "  </tbody>\n",
       "</table>\n",
       "</div>"
      ],
      "text/plain": [
       "                                  Transportation Mode    Earnings Bracket  \\\n",
       "2                    Car, Truck, or Van - Drove Alone  $15,000 to $24,999   \n",
       "10                     Car, Truck, or Van - Carpooled  $15,000 to $24,999   \n",
       "34                                   Worked from Home  $15,000 to $24,999   \n",
       "26  Taxicab, Motorcycle, Bicycle, Walked, or Other...  $15,000 to $24,999   \n",
       "18          Public Transportation (excluding taxicab)  $15,000 to $24,999   \n",
       "\n",
       "       Value  \n",
       "2   10731449  \n",
       "10   1912526  \n",
       "34   1424288  \n",
       "26    939471  \n",
       "18    629959  "
      ]
     },
     "execution_count": 8,
     "metadata": {},
     "output_type": "execute_result"
    }
   ],
   "source": [
    "df_3 = df[df['Earnings Bracket'] == '$15,000 to $24,999'].sort_values(by=\"Value\", ascending=False)\n",
    "df_3.head()"
   ]
  },
  {
   "cell_type": "markdown",
   "id": "1e5cbd9b",
   "metadata": {},
   "source": [
    "Workers who made under 35K in 2024, Drove alone, Carpooled or worked from home.\n",
    "Public transportation trailing behind once again."
   ]
  },
  {
   "cell_type": "code",
   "execution_count": 9,
   "id": "b7fd9265",
   "metadata": {},
   "outputs": [
    {
     "data": {
      "text/html": [
       "<div>\n",
       "<style scoped>\n",
       "    .dataframe tbody tr th:only-of-type {\n",
       "        vertical-align: middle;\n",
       "    }\n",
       "\n",
       "    .dataframe tbody tr th {\n",
       "        vertical-align: top;\n",
       "    }\n",
       "\n",
       "    .dataframe thead th {\n",
       "        text-align: right;\n",
       "    }\n",
       "</style>\n",
       "<table border=\"1\" class=\"dataframe\">\n",
       "  <thead>\n",
       "    <tr style=\"text-align: right;\">\n",
       "      <th></th>\n",
       "      <th>Transportation Mode</th>\n",
       "      <th>Earnings Bracket</th>\n",
       "      <th>Value</th>\n",
       "    </tr>\n",
       "  </thead>\n",
       "  <tbody>\n",
       "    <tr>\n",
       "      <th>3</th>\n",
       "      <td>Car, Truck, or Van - Drove Alone</td>\n",
       "      <td>$25,000 to $34,999</td>\n",
       "      <td>12977755</td>\n",
       "    </tr>\n",
       "    <tr>\n",
       "      <th>11</th>\n",
       "      <td>Car, Truck, or Van - Carpooled</td>\n",
       "      <td>$25,000 to $34,999</td>\n",
       "      <td>2128969</td>\n",
       "    </tr>\n",
       "    <tr>\n",
       "      <th>35</th>\n",
       "      <td>Worked from Home</td>\n",
       "      <td>$25,000 to $34,999</td>\n",
       "      <td>1526800</td>\n",
       "    </tr>\n",
       "    <tr>\n",
       "      <th>27</th>\n",
       "      <td>Taxicab, Motorcycle, Bicycle, Walked, or Other...</td>\n",
       "      <td>$25,000 to $34,999</td>\n",
       "      <td>900105</td>\n",
       "    </tr>\n",
       "    <tr>\n",
       "      <th>19</th>\n",
       "      <td>Public Transportation (excluding taxicab)</td>\n",
       "      <td>$25,000 to $34,999</td>\n",
       "      <td>661479</td>\n",
       "    </tr>\n",
       "  </tbody>\n",
       "</table>\n",
       "</div>"
      ],
      "text/plain": [
       "                                  Transportation Mode    Earnings Bracket  \\\n",
       "3                    Car, Truck, or Van - Drove Alone  $25,000 to $34,999   \n",
       "11                     Car, Truck, or Van - Carpooled  $25,000 to $34,999   \n",
       "35                                   Worked from Home  $25,000 to $34,999   \n",
       "27  Taxicab, Motorcycle, Bicycle, Walked, or Other...  $25,000 to $34,999   \n",
       "19          Public Transportation (excluding taxicab)  $25,000 to $34,999   \n",
       "\n",
       "       Value  \n",
       "3   12977755  \n",
       "11   2128969  \n",
       "35   1526800  \n",
       "27    900105  \n",
       "19    661479  "
      ]
     },
     "execution_count": 9,
     "metadata": {},
     "output_type": "execute_result"
    }
   ],
   "source": [
    "df_4 = df[df['Earnings Bracket'] == '$25,000 to $34,999'].sort_values(by=\"Value\", ascending=False)\n",
    "df_4.head(10)"
   ]
  },
  {
   "cell_type": "markdown",
   "id": "db2e247f",
   "metadata": {},
   "source": [
    "Pretty much the same across the board for workers who earn under $49K"
   ]
  },
  {
   "cell_type": "code",
   "execution_count": 12,
   "id": "3be0bfbb",
   "metadata": {},
   "outputs": [
    {
     "data": {
      "text/html": [
       "<div>\n",
       "<style scoped>\n",
       "    .dataframe tbody tr th:only-of-type {\n",
       "        vertical-align: middle;\n",
       "    }\n",
       "\n",
       "    .dataframe tbody tr th {\n",
       "        vertical-align: top;\n",
       "    }\n",
       "\n",
       "    .dataframe thead th {\n",
       "        text-align: right;\n",
       "    }\n",
       "</style>\n",
       "<table border=\"1\" class=\"dataframe\">\n",
       "  <thead>\n",
       "    <tr style=\"text-align: right;\">\n",
       "      <th></th>\n",
       "      <th>Transportation Mode</th>\n",
       "      <th>Earnings Bracket</th>\n",
       "      <th>Value</th>\n",
       "    </tr>\n",
       "  </thead>\n",
       "  <tbody>\n",
       "    <tr>\n",
       "      <th>4</th>\n",
       "      <td>Car, Truck, or Van - Drove Alone</td>\n",
       "      <td>$35,000 to $49,999</td>\n",
       "      <td>19305876</td>\n",
       "    </tr>\n",
       "    <tr>\n",
       "      <th>12</th>\n",
       "      <td>Car, Truck, or Van - Carpooled</td>\n",
       "      <td>$35,000 to $49,999</td>\n",
       "      <td>2594555</td>\n",
       "    </tr>\n",
       "    <tr>\n",
       "      <th>36</th>\n",
       "      <td>Worked from Home</td>\n",
       "      <td>$35,000 to $49,999</td>\n",
       "      <td>2582735</td>\n",
       "    </tr>\n",
       "    <tr>\n",
       "      <th>28</th>\n",
       "      <td>Taxicab, Motorcycle, Bicycle, Walked, or Other...</td>\n",
       "      <td>$35,000 to $49,999</td>\n",
       "      <td>954867</td>\n",
       "    </tr>\n",
       "    <tr>\n",
       "      <th>20</th>\n",
       "      <td>Public Transportation (excluding taxicab)</td>\n",
       "      <td>$35,000 to $49,999</td>\n",
       "      <td>778592</td>\n",
       "    </tr>\n",
       "  </tbody>\n",
       "</table>\n",
       "</div>"
      ],
      "text/plain": [
       "                                  Transportation Mode    Earnings Bracket  \\\n",
       "4                    Car, Truck, or Van - Drove Alone  $35,000 to $49,999   \n",
       "12                     Car, Truck, or Van - Carpooled  $35,000 to $49,999   \n",
       "36                                   Worked from Home  $35,000 to $49,999   \n",
       "28  Taxicab, Motorcycle, Bicycle, Walked, or Other...  $35,000 to $49,999   \n",
       "20          Public Transportation (excluding taxicab)  $35,000 to $49,999   \n",
       "\n",
       "       Value  \n",
       "4   19305876  \n",
       "12   2594555  \n",
       "36   2582735  \n",
       "28    954867  \n",
       "20    778592  "
      ]
     },
     "execution_count": 12,
     "metadata": {},
     "output_type": "execute_result"
    }
   ],
   "source": [
    "df_5 = df[df['Earnings Bracket'] == '$35,000 to $49,999'].sort_values(by=\"Value\", ascending=False)\n",
    "df_5.head()"
   ]
  },
  {
   "cell_type": "markdown",
   "id": "6c437d41",
   "metadata": {},
   "source": []
  },
  {
   "cell_type": "code",
   "execution_count": null,
   "id": "54378cdc",
   "metadata": {},
   "outputs": [],
   "source": [
    "df_6 = df[df['Earnings Bracket'] == ''].sort_values(by=\"Value\", ascending=False)"
   ]
  }
 ],
 "metadata": {
  "kernelspec": {
   "display_name": "venv",
   "language": "python",
   "name": "python3"
  },
  "language_info": {
   "codemirror_mode": {
    "name": "ipython",
    "version": 3
   },
   "file_extension": ".py",
   "mimetype": "text/x-python",
   "name": "python",
   "nbconvert_exporter": "python",
   "pygments_lexer": "ipython3",
   "version": "3.11.12"
  }
 },
 "nbformat": 4,
 "nbformat_minor": 5
}
