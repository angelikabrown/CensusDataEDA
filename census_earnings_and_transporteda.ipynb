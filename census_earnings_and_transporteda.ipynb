{
 "cells": [
  {
   "cell_type": "code",
   "execution_count": 1,
   "id": "9c57275d",
   "metadata": {},
   "outputs": [],
   "source": [
    "import pandas as pd\n",
    "import numpy as np"
   ]
  },
  {
   "cell_type": "code",
   "execution_count": 3,
   "id": "76bff7f1",
   "metadata": {},
   "outputs": [
    {
     "data": {
      "text/html": [
       "<div>\n",
       "<style scoped>\n",
       "    .dataframe tbody tr th:only-of-type {\n",
       "        vertical-align: middle;\n",
       "    }\n",
       "\n",
       "    .dataframe tbody tr th {\n",
       "        vertical-align: top;\n",
       "    }\n",
       "\n",
       "    .dataframe thead th {\n",
       "        text-align: right;\n",
       "    }\n",
       "</style>\n",
       "<table border=\"1\" class=\"dataframe\">\n",
       "  <thead>\n",
       "    <tr style=\"text-align: right;\">\n",
       "      <th></th>\n",
       "      <th>Transportation Mode</th>\n",
       "      <th>Earnings Bracket</th>\n",
       "      <th>Value</th>\n",
       "    </tr>\n",
       "  </thead>\n",
       "  <tbody>\n",
       "    <tr>\n",
       "      <th>0</th>\n",
       "      <td>Car, Truck, or Van - Drove Alone</td>\n",
       "      <td>$1 to $9,999 or loss</td>\n",
       "      <td>9330559</td>\n",
       "    </tr>\n",
       "    <tr>\n",
       "      <th>1</th>\n",
       "      <td>Car, Truck, or Van - Drove Alone</td>\n",
       "      <td>$10,000 to $14,999</td>\n",
       "      <td>5144909</td>\n",
       "    </tr>\n",
       "    <tr>\n",
       "      <th>2</th>\n",
       "      <td>Car, Truck, or Van - Drove Alone</td>\n",
       "      <td>$15,000 to $24,999</td>\n",
       "      <td>10731449</td>\n",
       "    </tr>\n",
       "    <tr>\n",
       "      <th>3</th>\n",
       "      <td>Car, Truck, or Van - Drove Alone</td>\n",
       "      <td>$25,000 to $34,999</td>\n",
       "      <td>12977755</td>\n",
       "    </tr>\n",
       "    <tr>\n",
       "      <th>4</th>\n",
       "      <td>Car, Truck, or Van - Drove Alone</td>\n",
       "      <td>$35,000 to $49,999</td>\n",
       "      <td>19305876</td>\n",
       "    </tr>\n",
       "  </tbody>\n",
       "</table>\n",
       "</div>"
      ],
      "text/plain": [
       "                Transportation Mode      Earnings Bracket     Value\n",
       "0  Car, Truck, or Van - Drove Alone  $1 to $9,999 or loss   9330559\n",
       "1  Car, Truck, or Van - Drove Alone    $10,000 to $14,999   5144909\n",
       "2  Car, Truck, or Van - Drove Alone    $15,000 to $24,999  10731449\n",
       "3  Car, Truck, or Van - Drove Alone    $25,000 to $34,999  12977755\n",
       "4  Car, Truck, or Van - Drove Alone    $35,000 to $49,999  19305876"
      ]
     },
     "execution_count": 3,
     "metadata": {},
     "output_type": "execute_result"
    }
   ],
   "source": [
    "df = pd.read_csv('transportation_modes_and_earnings.csv')\n",
    "df.head()"
   ]
  }
 ],
 "metadata": {
  "kernelspec": {
   "display_name": "venv",
   "language": "python",
   "name": "python3"
  },
  "language_info": {
   "codemirror_mode": {
    "name": "ipython",
    "version": 3
   },
   "file_extension": ".py",
   "mimetype": "text/x-python",
   "name": "python",
   "nbconvert_exporter": "python",
   "pygments_lexer": "ipython3",
   "version": "3.11.12"
  }
 },
 "nbformat": 4,
 "nbformat_minor": 5
}
